{
 "cells": [
  {
   "cell_type": "markdown",
   "metadata": {},
   "source": [
    "## Traffic Sign Classifier"
   ]
  },
  {
   "cell_type": "markdown",
   "metadata": {},
   "source": [
    "### Download the datasets"
   ]
  },
  {
   "cell_type": "code",
   "execution_count": 1,
   "metadata": {},
   "outputs": [
    {
     "name": "stdout",
     "output_type": "stream",
     "text": [
      "GTSRB_Final_Test_Images.zip already exists\n",
      "GTSRB_Final_Training_Images.zip already exists\n"
     ]
    }
   ],
   "source": [
    "from urllib.request import urlretrieve\n",
    "import os\n",
    "import constants as consts\n",
    "\n",
    "def download(url, filename):\n",
    "    if not os.path.isfile(filename):\n",
    "        print(f'Downloading {url} to file {filename}')\n",
    "        urlretrieve(url, filename)\n",
    "        print('Download finished!')\n",
    "    else:\n",
    "        print(f'{filename} already exists')\n",
    "    \n",
    "    \n",
    "download(consts.TESTING_SET_URL, consts.TESTING_SET_FILE)\n",
    "download(consts.TRAINING_SET_URL, consts.TRAINING_SET_FILE)"
   ]
  },
  {
   "cell_type": "markdown",
   "metadata": {},
   "source": [
    "### Get Features and labels from the zip files"
   ]
  },
  {
   "cell_type": "code",
   "execution_count": 5,
   "metadata": {},
   "outputs": [
    {
     "name": "stderr",
     "output_type": "stream",
     "text": [
      "100%|██████████| 39299/39299 [00:06<00:00, 5807.66files/s]\n"
     ]
    }
   ],
   "source": [
    "from zipfile import ZipFile\n",
    "from tqdm import tqdm\n",
    "from PIL import Image\n",
    "import numpy as np\n",
    "\n",
    "def uncompress_features_labels(zipfile):\n",
    "    features = []\n",
    "    labels = []\n",
    "\n",
    "    with ZipFile(zipfile) as zipf:\n",
    "        filenames_pbar = tqdm(zipf.namelist(), unit='files')\n",
    "\n",
    "        for filename in filenames_pbar:\n",
    "            if filename.endswith(\"ppm\"):\n",
    "                with zipf.open(filename) as image_file:\n",
    "                    image = Image.open(image_file)\n",
    "                    #print(filename.split(\"/\"))\n",
    "                    label = filename.split(\"/\")[3]\n",
    "                    #print(\"img\", filename.split(\"/\")[4])\n",
    "                    feature = np.array(image, dtype=np.float32).flatten()\n",
    "                    features.append(feature)\n",
    "                    labels.append(label)\n",
    "                    #print(feature.shape)\n",
    "\n",
    "    return np.array(features),np.array(labels)\n",
    "\n",
    "features, labels = uncompress_features_labels(consts.TRAINING_SET_FILE)"
   ]
  },
  {
   "cell_type": "code",
   "execution_count": null,
   "metadata": {},
   "outputs": [],
   "source": []
  }
 ],
 "metadata": {
  "kernelspec": {
   "display_name": "Python 3",
   "language": "python",
   "name": "python3"
  },
  "language_info": {
   "codemirror_mode": {
    "name": "ipython",
    "version": 3
   },
   "file_extension": ".py",
   "mimetype": "text/x-python",
   "name": "python",
   "nbconvert_exporter": "python",
   "pygments_lexer": "ipython3",
   "version": "3.7.0"
  }
 },
 "nbformat": 4,
 "nbformat_minor": 2
}
